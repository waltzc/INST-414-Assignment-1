{
 "cells": [
  {
   "cell_type": "code",
   "execution_count": 8,
   "metadata": {},
   "outputs": [
    {
     "name": "stdout",
     "output_type": "stream",
     "text": [
      "    unique_squirrel_id primary_fur_color       age  chasing  climbing\n",
      "0       37F-PM-1014-03              None      None    False     False\n",
      "1       21B-AM-1019-04              None      None    False     False\n",
      "2       11B-PM-1014-08              Gray      None     True     False\n",
      "3       32E-PM-1017-14              Gray     Adult    False     False\n",
      "4       13E-AM-1017-05              Gray     Adult    False     False\n",
      "..                 ...               ...       ...      ...       ...\n",
      "995     16D-AM-1007-01              Gray     Adult    False      True\n",
      "996      3B-AM-1010-10          Cinnamon     Adult    False     False\n",
      "997     33D-AM-1017-03              Gray     Adult    False     False\n",
      "998      2A-PM-1019-04              Gray  Juvenile    False     False\n",
      "999      2A-AM-1010-08              Gray     Adult    False     False\n",
      "\n",
      "[1000 rows x 5 columns]\n"
     ]
    }
   ],
   "source": [
    "import pandas as pd\n",
    "import requests\n",
    "import matplotlib.pyplot as plt\n",
    "\n",
    "# Send a GET request to the API\n",
    "url = \"https://data.cityofnewyork.us/resource/vfnx-vebw.json\"\n",
    "response = requests.get(url)\n",
    "\n",
    "# Convert the JSON response to a list of dictionaries\n",
    "data = response.json()\n",
    "\n",
    "# Extract the desired fields from the data\n",
    "columns = [\"unique_squirrel_id\", \"primary_fur_color\", \"age\", \"chasing\", \"climbing\"]\n",
    "extracted_data = []\n",
    "for entry in data:\n",
    "    extracted_entry = {}\n",
    "    for col in columns:\n",
    "        if col in entry:\n",
    "            extracted_entry[col] = entry[col]\n",
    "        else:\n",
    "            extracted_entry[col] = None\n",
    "    extracted_data.append(extracted_entry)\n",
    "\n",
    "# Create a dataframe from the extracted data\n",
    "df = pd.DataFrame(extracted_data)\n",
    "\n",
    "# Print the dataframe\n",
    "print(df)\n"
   ]
  },
  {
   "cell_type": "code",
   "execution_count": 9,
   "metadata": {},
   "outputs": [
    {
     "name": "stdout",
     "output_type": "stream",
     "text": [
      "    unique_squirrel_id primary_fur_color       age  chasing  climbing\n",
      "0       32E-PM-1017-14              Gray     Adult    False     False\n",
      "1       13E-AM-1017-05              Gray     Adult    False     False\n",
      "2       11H-AM-1010-03          Cinnamon     Adult    False     False\n",
      "3       36H-AM-1010-02              Gray     Adult    False     False\n",
      "4       33F-AM-1008-02              Gray     Adult    False     False\n",
      "..                 ...               ...       ...      ...       ...\n",
      "934     16D-AM-1007-01              Gray     Adult    False      True\n",
      "935      3B-AM-1010-10          Cinnamon     Adult    False     False\n",
      "936     33D-AM-1017-03              Gray     Adult    False     False\n",
      "937      2A-PM-1019-04              Gray  Juvenile    False     False\n",
      "938      2A-AM-1010-08              Gray     Adult    False     False\n",
      "\n",
      "[939 rows x 5 columns]\n"
     ]
    }
   ],
   "source": [
    "# Clean the dataframe by dropping rows with \"None\" values\n",
    "df_cleaned = df.dropna()\n",
    "\n",
    "# Reset the index of the cleaned dataframe\n",
    "df_cleaned.reset_index(drop=True, inplace=True)\n",
    "\n",
    "# Print the cleaned dataframe\n",
    "print(df_cleaned)"
   ]
  },
  {
   "cell_type": "code",
   "execution_count": 10,
   "metadata": {},
   "outputs": [],
   "source": [
    "# Perform EDA\n",
    "color_climbing_counts = df_cleaned.groupby(['primary_fur_color', 'climbing']).size().unstack()"
   ]
  },
  {
   "cell_type": "code",
   "execution_count": 11,
   "metadata": {},
   "outputs": [
    {
     "data": {
      "text/html": [
       "<div>\n",
       "<style scoped>\n",
       "    .dataframe tbody tr th:only-of-type {\n",
       "        vertical-align: middle;\n",
       "    }\n",
       "\n",
       "    .dataframe tbody tr th {\n",
       "        vertical-align: top;\n",
       "    }\n",
       "\n",
       "    .dataframe thead th {\n",
       "        text-align: right;\n",
       "    }\n",
       "</style>\n",
       "<table border=\"1\" class=\"dataframe\">\n",
       "  <thead>\n",
       "    <tr style=\"text-align: right;\">\n",
       "      <th>climbing</th>\n",
       "      <th>False</th>\n",
       "      <th>True</th>\n",
       "    </tr>\n",
       "    <tr>\n",
       "      <th>primary_fur_color</th>\n",
       "      <th></th>\n",
       "      <th></th>\n",
       "    </tr>\n",
       "  </thead>\n",
       "  <tbody>\n",
       "    <tr>\n",
       "      <th>Black</th>\n",
       "      <td>19</td>\n",
       "      <td>12</td>\n",
       "    </tr>\n",
       "    <tr>\n",
       "      <th>Cinnamon</th>\n",
       "      <td>92</td>\n",
       "      <td>30</td>\n",
       "    </tr>\n",
       "    <tr>\n",
       "      <th>Gray</th>\n",
       "      <td>633</td>\n",
       "      <td>153</td>\n",
       "    </tr>\n",
       "  </tbody>\n",
       "</table>\n",
       "</div>"
      ],
      "text/plain": [
       "climbing           False  True \n",
       "primary_fur_color              \n",
       "Black                 19     12\n",
       "Cinnamon              92     30\n",
       "Gray                 633    153"
      ]
     },
     "execution_count": 11,
     "metadata": {},
     "output_type": "execute_result"
    }
   ],
   "source": [
    "color_climbing_counts"
   ]
  },
  {
   "cell_type": "code",
   "execution_count": 14,
   "metadata": {},
   "outputs": [
    {
     "data": {
      "text/plain": [
       "Gray        786\n",
       "Cinnamon    122\n",
       "Black        31\n",
       "Name: primary_fur_color, dtype: int64"
      ]
     },
     "execution_count": 14,
     "metadata": {},
     "output_type": "execute_result"
    }
   ],
   "source": [
    "# Get unique counts for primary fur color\n",
    "color_counts = df_cleaned['primary_fur_color'].value_counts()\n",
    "color_counts"
   ]
  },
  {
   "cell_type": "code",
   "execution_count": 16,
   "metadata": {},
   "outputs": [
    {
     "data": {
      "text/plain": [
       "primary_fur_color  climbing\n",
       "Black              False       61.290323\n",
       "                   True        38.709677\n",
       "Cinnamon           False       75.409836\n",
       "                   True        24.590164\n",
       "Gray               False       80.534351\n",
       "                   True        19.465649\n",
       "Name: climbing, dtype: float64"
      ]
     },
     "execution_count": 16,
     "metadata": {},
     "output_type": "execute_result"
    }
   ],
   "source": [
    "# Calculate the percentage of each fur color category based on climbing behavior\n",
    "color_percentage = df_cleaned.groupby('primary_fur_color')['climbing'].value_counts(normalize=True) * 100\n",
    "color_percentage"
   ]
  },
  {
   "cell_type": "code",
   "execution_count": 12,
   "metadata": {},
   "outputs": [
    {
     "data": {
      "image/png": "[encoded data removed]",
      "text/plain": [
       "<Figure size 432x288 with 1 Axes>"
      ]
     },
     "metadata": {
      "needs_background": "light"
     },
     "output_type": "display_data"
    }
   ],
   "source": [
    "# Create a bar chart\n",
    "color_climbing_counts.plot(kind='bar', stacked=True)\n",
    "plt.xlabel('Fur Color')\n",
    "plt.ylabel('Count')\n",
    "plt.title('Squirrel Climbing Behavior by Fur Color')\n",
    "plt.legend(['Not Climbing', 'Climbing'])\n",
    "plt.show()"
   ]
  },
  {
   "cell_type": "code",
   "execution_count": null,
   "metadata": {},
   "outputs": [],
   "source": []
  }
 ],
 "metadata": {
  "kernelspec": {
   "display_name": "Python 3",
   "language": "python",
   "name": "python3"
  },
  "language_info": {
   "codemirror_mode": {
    "name": "ipython",
    "version": 3
   },
   "file_extension": ".py",
   "mimetype": "text/x-python",
   "name": "python",
   "nbconvert_exporter": "python",
   "pygments_lexer": "ipython3",
   "version": "3.8.5"
  }
 },
 "nbformat": 4,
 "nbformat_minor": 4
}
